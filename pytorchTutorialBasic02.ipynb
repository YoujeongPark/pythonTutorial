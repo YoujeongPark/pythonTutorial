{
 "cells": [
  {
   "cell_type": "code",
   "execution_count": 1,
   "metadata": {},
   "outputs": [],
   "source": [
    "import torch\n",
    "import torch.nn as nn\n",
    "import torch.nn.functional as F"
   ]
  },
  {
   "cell_type": "code",
   "execution_count": 2,
   "metadata": {},
   "outputs": [],
   "source": [
    "from torch.utils.data import TensorDataset\n",
    "from torch.utils.data import DataLoader\n",
    "from torch.utils.data import Dataset"
   ]
  },
  {
   "cell_type": "code",
   "execution_count": 3,
   "metadata": {},
   "outputs": [],
   "source": [
    "x_train = torch.FloatTensor([[73,80,75],\n",
    "                             [93,88,93],\n",
    "                             [79,80,90],\n",
    "                             [96,80,101],\n",
    "                             [73,66,80]]\n",
    "                           )\n",
    "y_train = torch.FloatTensor([[152],[185],[180],[196],[142]])"
   ]
  },
  {
   "cell_type": "code",
   "execution_count": 4,
   "metadata": {},
   "outputs": [],
   "source": [
    "dataset = TensorDataset(x_train, y_train)"
   ]
  },
  {
   "cell_type": "code",
   "execution_count": 5,
   "metadata": {},
   "outputs": [],
   "source": [
    "dataloader = DataLoader(dataset, batch_size=2, shuffle=True)"
   ]
  },
  {
   "cell_type": "code",
   "execution_count": 6,
   "metadata": {},
   "outputs": [],
   "source": [
    "model = nn.Linear(3,1)\n",
    "optimizer = torch.optim.SGD(model.parameters(), lr=1e-5) "
   ]
  },
  {
   "cell_type": "code",
   "execution_count": 7,
   "metadata": {},
   "outputs": [
    {
     "name": "stdout",
     "output_type": "stream",
     "text": [
      "Epoch    0/20 Batch 1/3 Cost: 45218.179688\n",
      "Epoch    0/20 Batch 2/3 Cost: 9014.958984\n",
      "Epoch    0/20 Batch 3/3 Cost: 2400.998535\n",
      "Epoch    1/20 Batch 1/3 Cost: 1492.339111\n",
      "Epoch    1/20 Batch 2/3 Cost: 831.741760\n",
      "Epoch    1/20 Batch 3/3 Cost: 478.647827\n",
      "Epoch    2/20 Batch 1/3 Cost: 192.504425\n",
      "Epoch    2/20 Batch 2/3 Cost: 28.724085\n",
      "Epoch    2/20 Batch 3/3 Cost: 42.966328\n",
      "Epoch    3/20 Batch 1/3 Cost: 66.036324\n",
      "Epoch    3/20 Batch 2/3 Cost: 60.734421\n",
      "Epoch    3/20 Batch 3/3 Cost: 67.724541\n",
      "Epoch    4/20 Batch 1/3 Cost: 81.562325\n",
      "Epoch    4/20 Batch 2/3 Cost: 17.163847\n",
      "Epoch    4/20 Batch 3/3 Cost: 90.317566\n",
      "Epoch    5/20 Batch 1/3 Cost: 58.741646\n",
      "Epoch    5/20 Batch 2/3 Cost: 33.108074\n",
      "Epoch    5/20 Batch 3/3 Cost: 71.269707\n",
      "Epoch    6/20 Batch 1/3 Cost: 50.232567\n",
      "Epoch    6/20 Batch 2/3 Cost: 69.279335\n",
      "Epoch    6/20 Batch 3/3 Cost: 6.229113\n",
      "Epoch    7/20 Batch 1/3 Cost: 41.938370\n",
      "Epoch    7/20 Batch 2/3 Cost: 55.660236\n",
      "Epoch    7/20 Batch 3/3 Cost: 89.112206\n",
      "Epoch    8/20 Batch 1/3 Cost: 25.367296\n",
      "Epoch    8/20 Batch 2/3 Cost: 56.555836\n",
      "Epoch    8/20 Batch 3/3 Cost: 100.227791\n",
      "Epoch    9/20 Batch 1/3 Cost: 72.420197\n",
      "Epoch    9/20 Batch 2/3 Cost: 22.253185\n",
      "Epoch    9/20 Batch 3/3 Cost: 81.881569\n",
      "Epoch   10/20 Batch 1/3 Cost: 29.783070\n",
      "Epoch   10/20 Batch 2/3 Cost: 88.255417\n",
      "Epoch   10/20 Batch 3/3 Cost: 68.361931\n",
      "Epoch   11/20 Batch 1/3 Cost: 49.353279\n",
      "Epoch   11/20 Batch 2/3 Cost: 66.160980\n",
      "Epoch   11/20 Batch 3/3 Cost: 14.944283\n",
      "Epoch   12/20 Batch 1/3 Cost: 49.478401\n",
      "Epoch   12/20 Batch 2/3 Cost: 118.367462\n",
      "Epoch   12/20 Batch 3/3 Cost: 18.644405\n",
      "Epoch   13/20 Batch 1/3 Cost: 57.406128\n",
      "Epoch   13/20 Batch 2/3 Cost: 25.374828\n",
      "Epoch   13/20 Batch 3/3 Cost: 83.491058\n",
      "Epoch   14/20 Batch 1/3 Cost: 52.912933\n",
      "Epoch   14/20 Batch 2/3 Cost: 46.277847\n",
      "Epoch   14/20 Batch 3/3 Cost: 77.445961\n",
      "Epoch   15/20 Batch 1/3 Cost: 27.810974\n",
      "Epoch   15/20 Batch 2/3 Cost: 150.293961\n",
      "Epoch   15/20 Batch 3/3 Cost: 12.462292\n",
      "Epoch   16/20 Batch 1/3 Cost: 47.621582\n",
      "Epoch   16/20 Batch 2/3 Cost: 69.399918\n",
      "Epoch   16/20 Batch 3/3 Cost: 51.415001\n",
      "Epoch   17/20 Batch 1/3 Cost: 23.731739\n",
      "Epoch   17/20 Batch 2/3 Cost: 91.609650\n",
      "Epoch   17/20 Batch 3/3 Cost: 90.159859\n",
      "Epoch   18/20 Batch 1/3 Cost: 63.945137\n",
      "Epoch   18/20 Batch 2/3 Cost: 66.576080\n",
      "Epoch   18/20 Batch 3/3 Cost: 42.613388\n",
      "Epoch   19/20 Batch 1/3 Cost: 56.143730\n",
      "Epoch   19/20 Batch 2/3 Cost: 23.190170\n",
      "Epoch   19/20 Batch 3/3 Cost: 102.010124\n",
      "Epoch   20/20 Batch 1/3 Cost: 23.778749\n",
      "Epoch   20/20 Batch 2/3 Cost: 113.898994\n",
      "Epoch   20/20 Batch 3/3 Cost: 67.999069\n"
     ]
    }
   ],
   "source": [
    "nb_epochs = 20\n",
    "for epoch in range(nb_epochs + 1):\n",
    "  for batch_idx, samples in enumerate(dataloader):\n",
    "    # print(batch_idx)\n",
    "    # print(samples)\n",
    "    x_train, y_train = samples\n",
    "    # H(x) 계산\n",
    "    prediction = model(x_train)\n",
    "\n",
    "    # cost 계산\n",
    "    cost = F.mse_loss(prediction, y_train)\n",
    "\n",
    "    # cost로 H(x) 계산\n",
    "    optimizer.zero_grad()\n",
    "    cost.backward()\n",
    "    optimizer.step()\n",
    "\n",
    "    print('Epoch {:4d}/{} Batch {}/{} Cost: {:.6f}'.format(\n",
    "        epoch, nb_epochs, batch_idx+1, len(dataloader),\n",
    "        cost.item()\n",
    "        ))"
   ]
  },
  {
   "cell_type": "code",
   "execution_count": 8,
   "metadata": {},
   "outputs": [
    {
     "name": "stdout",
     "output_type": "stream",
     "text": [
      "훈련 후 입력이 73, 80, 75일 때의 예측값 : tensor([[157.3839]], grad_fn=<AddmmBackward>)\n"
     ]
    }
   ],
   "source": [
    "# 임의의 입력 [73, 80, 75]를 선언\n",
    "new_var =  torch.FloatTensor([[73, 80, 75]]) \n",
    "# 입력한 값 [73, 80, 75]에 대해서 예측값 y를 리턴받아서 pred_y에 저장\n",
    "pred_y = model(new_var) \n",
    "print(\"훈련 후 입력이 73, 80, 75일 때의 예측값 :\", pred_y) "
   ]
  },
  {
   "cell_type": "code",
   "execution_count": null,
   "metadata": {},
   "outputs": [],
   "source": []
  }
 ],
 "metadata": {
  "kernelspec": {
   "display_name": "py36",
   "language": "python",
   "name": "py36"
  },
  "language_info": {
   "codemirror_mode": {
    "name": "ipython",
    "version": 3
   },
   "file_extension": ".py",
   "mimetype": "text/x-python",
   "name": "python",
   "nbconvert_exporter": "python",
   "pygments_lexer": "ipython3",
   "version": "3.6.10"
  }
 },
 "nbformat": 4,
 "nbformat_minor": 4
}
